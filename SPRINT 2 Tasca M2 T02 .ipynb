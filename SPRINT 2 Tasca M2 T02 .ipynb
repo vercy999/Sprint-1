{
 "cells": [
  {
   "cell_type": "markdown",
   "id": "26599986",
   "metadata": {},
   "source": [
    "- Exercici 1\n",
    "\n",
    "L'exercici consisteix a crear un programa que et classifiqui una variable numèrica en funció de l’escala Suspès/Aprovat/Notable/Excel·lent.\n",
    "\n",
    "Recorda que Suspès < 5, Aprovat > 5 i < 7, Notable > 7 i < 9 i Excel·lent > 9."
   ]
  },
  {
   "cell_type": "code",
   "execution_count": null,
   "id": "fda2401b",
   "metadata": {},
   "outputs": [],
   "source": [
    "nota = float(input(\"Introduce la nota: \"))\n",
    "\n",
    "if nota < 5:\n",
    "    print(\"Suspès\")\n",
    "elif nota >= 5 and nota < 7:\n",
    "    print(\"Aprovat\")\n",
    "elif nota >= 7 and nota < 9:\n",
    "    print(\"Notable\")\n",
    "else:\n",
    "    print(\"Excel·lent\")\n",
    "\n",
    "\n"
   ]
  },
  {
   "cell_type": "code",
   "execution_count": null,
   "id": "cf2c935d",
   "metadata": {},
   "outputs": [],
   "source": [
    "- Exercici 2\n",
    "Utilitzant el següent tutorial crea un programa que et pregunti dos números. \n",
    "T’ha de mostrar un missatge dient si el primer és més gran, el segon és més gran o són iguals.\n",
    "\n",
    "->Programiz: Python Input, Output and Import"
   ]
  },
  {
   "cell_type": "code",
   "execution_count": null,
   "id": "b09f8761",
   "metadata": {},
   "outputs": [],
   "source": [
    "\n",
    "\n",
    "num1 = float(input(\"Introdueix  el primer numero: \"))\n",
    "num2 = float(input(\"Introdueix el segon numero: \"))\n",
    "\n",
    "\n"
   ]
  },
  {
   "cell_type": "code",
   "execution_count": null,
   "id": "6a20a144",
   "metadata": {},
   "outputs": [],
   "source": [
    "4\n"
   ]
  },
  {
   "cell_type": "code",
   "execution_count": null,
   "id": "dd363d02",
   "metadata": {},
   "outputs": [],
   "source": [
    "5"
   ]
  },
  {
   "cell_type": "code",
   "execution_count": null,
   "id": "6bce11d3",
   "metadata": {},
   "outputs": [],
   "source": [
    "if num1 > num2:\n",
    "    print(\"El primer numero es més gran que el segon\")\n",
    "elif num2 > num1:\n",
    "    print(\"El segon numero es més grande que el primer\")\n",
    "else:\n",
    "    print(\"Els dos numeros son iguals\")\n",
    "\n"
   ]
  },
  {
   "cell_type": "markdown",
   "id": "0f0ec1d8",
   "metadata": {},
   "source": [
    "- Exercici 3\n",
    "\n",
    "Crea un programa que et pregunti el teu nom, \n",
    "i et demani un número. Si el número és 0, hauria de mostrar un missatge d’error. \n",
    "En cas contrari, hauria de mostrar el nom repetit tants cops com indiqui el número. Per exemple, “Joan Joan Joan”.\n",
    "\n"
   ]
  },
  {
   "cell_type": "code",
   "execution_count": null,
   "id": "875610c1",
   "metadata": {},
   "outputs": [],
   "source": [
    "\n",
    "nom = input(\"QUin és el teu nom ? : \")\n",
    "\n",
    "num = int(input(\"Escriu un numero: \"))\n",
    "\n",
    "\n",
    "\n",
    "if num == 0:\n",
    "    print(\"Error\")\n",
    "else:\n",
    "    print((nom + \" \") * num)    \n",
    "    \n",
    "\n",
    "\n",
    "\n",
    "\n",
    "\n"
   ]
  },
  {
   "cell_type": "markdown",
   "id": "de23d5ed",
   "metadata": {},
   "source": [
    " Exercici 4\n",
    "\n",
    "Crea un programa que donada una llista qualsevol,\n",
    "et digui si és simètrica o no. Si ho és, que et digui quants elements té."
   ]
  },
  {
   "cell_type": "code",
   "execution_count": null,
   "id": "c0282bc8",
   "metadata": {},
   "outputs": [],
   "source": [
    "def es_simetrica(lista):\n",
    "    inversa = lista[::-1]  # Obtenemos la lista inversa\n",
    "    if lista == inversa:\n",
    "        return True\n",
    "    else:\n",
    "        return False\n",
    "\n",
    "lista = input(\"Introduce una lista separando los elementos por comas: \")\n",
    "lista = lista.split(\",\")  \n",
    "\n"
   ]
  },
  {
   "cell_type": "code",
   "execution_count": null,
   "id": "6212a13a",
   "metadata": {},
   "outputs": [],
   "source": [
    "if es_simetrica(lista):\n",
    "    print(\"La lista es simétrica y tiene\", len(lista), \"elementos\")\n",
    "else:\n",
    "    print(\"La lista no es simétrica\")"
   ]
  },
  {
   "cell_type": "code",
   "execution_count": null,
   "id": "51c7bd33",
   "metadata": {},
   "outputs": [],
   "source": [
    "print(es_simetrica(lista))"
   ]
  },
  {
   "cell_type": "markdown",
   "id": "fa2a5e10",
   "metadata": {},
   "source": [
    "\n",
    "- Exercici 5\n",
    "\n",
    "Crea un programa que donada una llista,\n",
    "et digui quants números coincideixen amb la seva posició. Per exemple [3,4,2,0,2,3,6] el 2 i el 6 coincideixen."
   ]
  },
  {
   "cell_type": "code",
   "execution_count": null,
   "id": "85c207c6",
   "metadata": {},
   "outputs": [],
   "source": [
    "import numpy as np\n",
    "\n",
    "def coincidencies_posicio(3,4,2,0,2,3,6):\n",
    "    \"\"\"\n",
    "    Aquesta funció rep una llista de nombres i retorna la quantitat de nombres que coincideixen amb la seva posició.\n",
    "    \"\"\"\n",
    "    llista_np = np.array((3,4,2,0,2,3,6))  # Convertim la llista a un array de NumPy per a poder utilitzar els seus mètodes\n",
    "    coincidencies = np.sum(llista_np == np.arange(len(llista_np)))  \n",
    "    # Comprovem quins elements coincideixen amb la seva posició\n",
    "    return coincidencies"
   ]
  },
  {
   "cell_type": "code",
   "execution_count": null,
   "id": "909a6eda",
   "metadata": {},
   "outputs": [],
   "source": [
    "  return coincidencies_posicio"
   ]
  },
  {
   "cell_type": "code",
   "execution_count": null,
   "id": "af1e879f",
   "metadata": {},
   "outputs": [],
   "source": [
    "  return coincidencies_posicio(llista):"
   ]
  },
  {
   "cell_type": "code",
   "execution_count": null,
   "id": "6980eac7",
   "metadata": {},
   "outputs": [],
   "source": [
    "import numpy as np\n",
    "def coincidencies_posicio(llista):\n",
    "    \"\"\"\n",
    "    Aquesta funció rep una llista de nombres i retorna la quantitat de nombres que coincideixen amb la seva posició.\n",
    "    \"\"\"\n",
    "    coincidencies = 0 \n",
    "    for i in range(len(llista)):\n",
    "        if llista[i] == i: \n",
    "   "
   ]
  },
  {
   "cell_type": "code",
   "execution_count": null,
   "id": "7f4e7439",
   "metadata": {},
   "outputs": [],
   "source": [
    " return coincidencies"
   ]
  },
  {
   "cell_type": "code",
   "execution_count": null,
   "id": "9baf4db9",
   "metadata": {},
   "outputs": [],
   "source": []
  },
  {
   "cell_type": "code",
   "execution_count": null,
   "id": "38739777",
   "metadata": {},
   "outputs": [],
   "source": []
  }
 ],
 "metadata": {
  "kernelspec": {
   "display_name": "Python 3 (ipykernel)",
   "language": "python",
   "name": "python3"
  },
  "language_info": {
   "codemirror_mode": {
    "name": "ipython",
    "version": 3
   },
   "file_extension": ".py",
   "mimetype": "text/x-python",
   "name": "python",
   "nbconvert_exporter": "python",
   "pygments_lexer": "ipython3",
   "version": "3.9.13"
  }
 },
 "nbformat": 4,
 "nbformat_minor": 5
}
