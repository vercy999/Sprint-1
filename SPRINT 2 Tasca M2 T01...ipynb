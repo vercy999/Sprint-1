{
 "cells": [
  {
   "cell_type": "markdown",
   "id": "f7e6e9b8",
   "metadata": {},
   "source": [
    "Tasca M2 T01\n",
    "\n",
    "EXERCICI 1\n",
    "Crea una llista amb python que agrupi els mesos de l’any en trimestres \n",
    "(1T: gener, febrer i març; 2T: abril, maig, juny...), és a dir, una llista amb 4 llistes dins."
   ]
  },
  {
   "cell_type": "code",
   "execution_count": 5,
   "id": "38bee3aa",
   "metadata": {},
   "outputs": [
    {
     "name": "stdout",
     "output_type": "stream",
     "text": [
      "[['gener', 'febrer', 'març'], ['abril', 'maig', 'juny'], ['juliol', 'agost', 'setembre'], ['octubre', 'novembre', 'desembre']]\n"
     ]
    }
   ],
   "source": [
    "trimestres = [  [\"gener\", \"febrer\", \"març\"],\n",
    "  [\"abril\", \"maig\", \"juny\"],\n",
    "  [\"juliol\", \"agost\", \"setembre\"],\n",
    "  [\"octubre\", \"novembre\", \"desembre\"]\n",
    "]\n",
    "\n",
    "print(trimestres)"
   ]
  },
  {
   "cell_type": "markdown",
   "id": "374d57b5",
   "metadata": {},
   "source": [
    "EXERCICI 2 \n",
    "\n",
    "Crea un codi que et permeti accedir a:\n",
    "\n",
    "    El segon mes del primer trimestre.\n",
    "    Els mesos del primer trimestre.\n",
    "    Setembre i octubre.\n"
   ]
  },
  {
   "cell_type": "markdown",
   "id": "7a0242ac",
   "metadata": {},
   "source": [
    "#segon mes del primer trimestre\n",
    "segon_mes = trimestres[0][1]\n",
    "print(\"El segon mes del primer trimestre és:\", segon_mes)\n",
    "\n",
    "#mesos del primer trimestre\n",
    "primer_trimestre = trimestres[0]\n",
    "print(\"Els mesos del primer trimestre són:\", primer_trimestre)\n",
    "\n",
    "#setembre i octubre\n",
    "set_oct = trimestres[2][2] + \", \" + trimestres[3][0]\n",
    "print(\"Setembre i octubre són:\", set_oct)"
   ]
  },
  {
   "cell_type": "code",
   "execution_count": 6,
   "id": "22c600f5",
   "metadata": {},
   "outputs": [
    {
     "name": "stdout",
     "output_type": "stream",
     "text": [
      "El segon mes del primer trimestre és: febrer\n"
     ]
    }
   ],
   "source": [
    "segon_mes = trimestres[0][1]\n",
    "print(\"El segon mes del primer trimestre és:\", segon_mes)\n"
   ]
  },
  {
   "cell_type": "code",
   "execution_count": 7,
   "id": "0bfac9c6",
   "metadata": {},
   "outputs": [
    {
     "name": "stdout",
     "output_type": "stream",
     "text": [
      "Els mesos del primer trimestre són: ['gener', 'febrer', 'març']\n"
     ]
    }
   ],
   "source": [
    "primer_trimestre = trimestres[0]\n",
    "print(\"Els mesos del primer trimestre són:\", primer_trimestre)"
   ]
  },
  {
   "cell_type": "code",
   "execution_count": 9,
   "id": "d045174a",
   "metadata": {},
   "outputs": [
    {
     "name": "stdout",
     "output_type": "stream",
     "text": [
      "Setembre i octubre : setembre, octubre\n"
     ]
    }
   ],
   "source": [
    "set_oct = trimestres[2][2] + \", \" + trimestres[3][0]\n",
    "print(\"Setembre i octubre :\", set_oct)"
   ]
  },
  {
   "cell_type": "markdown",
   "id": "8d427630",
   "metadata": {},
   "source": [
    "- Exercici 3\n",
    "\n",
    "Crea una llista amb nombres desordenats i respon a les següents preguntes:\n",
    "\n",
    "    Quants números hi ha?\n",
    "    Quantes vegades apareix el número 3.\n",
    "    Quantes vegades apareixen els nombres 3 i 4?\n",
    "    Quin és el número més gran?\n",
    "    Quins són els 3 números més petits?\n",
    "    Quin és el rang d’aquesta llista?\n"
   ]
  },
  {
   "cell_type": "code",
   "execution_count": 31,
   "id": "16206665",
   "metadata": {},
   "outputs": [
    {
     "name": "stdout",
     "output_type": "stream",
     "text": [
      "[7, 3, 3, 3, 32, 26, 44, 3, 97, 3, 4, 4, 4, 2, 7, 15, 9, 85, 11, 6]\n"
     ]
    }
   ],
   "source": [
    "## llista  \n",
    "numeros = [7, 3,3,3,32, 26, 44,3, 97, 3,4,4,4, 2, 7, 15, 9, 85, 11, 6]\n",
    "print (numeros)"
   ]
  },
  {
   "cell_type": "code",
   "execution_count": 32,
   "id": "6ec04caf",
   "metadata": {},
   "outputs": [
    {
     "name": "stdout",
     "output_type": "stream",
     "text": [
      "20\n",
      "A la llista creada  hi ha  20 números\n"
     ]
    }
   ],
   "source": [
    "## a) \n",
    "nums= len(numeros)\n",
    "print(len(numeros)) \n",
    "print (\"A la llista creada  hi ha \", nums, \"números\")"
   ]
  },
  {
   "cell_type": "code",
   "execution_count": 33,
   "id": "f4734742",
   "metadata": {},
   "outputs": [
    {
     "name": "stdout",
     "output_type": "stream",
     "text": [
      "El número 3 apareix 5 vegades a la llista.\n"
     ]
    }
   ],
   "source": [
    "##b)\n",
    "numero_tres = numeros.count(3)\n",
    "print(\"El número 3 apareix\", numero_tres, \"vegades a la llista.\")\n"
   ]
  },
  {
   "cell_type": "code",
   "execution_count": 34,
   "id": "ee9b9661",
   "metadata": {},
   "outputs": [
    {
     "name": "stdout",
     "output_type": "stream",
     "text": [
      "Els numero 3 i el  numero  4 apareixen 8 vegades a la llista.\n"
     ]
    }
   ],
   "source": [
    "##c)\n",
    "numero_tres_i_numero_quatre = numeros.count(3) + numeros.count(4)\n",
    "\n",
    "print(\"Els numero 3 i el  numero  4 apareixen\", numero_tres_i_numero_quatre, \"vegades a la llista.\")"
   ]
  },
  {
   "cell_type": "code",
   "execution_count": 42,
   "id": "e427d529",
   "metadata": {},
   "outputs": [
    {
     "name": "stdout",
     "output_type": "stream",
     "text": [
      "El número més gran  és 97\n"
     ]
    }
   ],
   "source": [
    "##d)\n",
    "maxim = max(numeros)\n",
    "print(\"El número més gran  és\", maxim)"
   ]
  },
  {
   "cell_type": "code",
   "execution_count": 45,
   "id": "43518010",
   "metadata": {},
   "outputs": [
    {
     "name": "stdout",
     "output_type": "stream",
     "text": [
      "Els 3 números més petits de la llista són [2, 3, 3]\n"
     ]
    }
   ],
   "source": [
    "##e)\n",
    "els_tres_numeros_mes_petits = sorted(numeros)[:3]\n",
    "print(\"Els 3 números més petits de la llista són\", els_tres_numeros_mes_petits)"
   ]
  },
  {
   "cell_type": "code",
   "execution_count": 46,
   "id": "7795bd9e",
   "metadata": {},
   "outputs": [
    {
     "name": "stdout",
     "output_type": "stream",
     "text": [
      "El rang  és 95\n"
     ]
    }
   ],
   "source": [
    "##f)\n",
    "rang = max(numeros) - min(numeros)\n",
    "print(\"El rang  és\", rang)"
   ]
  },
  {
   "cell_type": "markdown",
   "id": "07de09a4",
   "metadata": {},
   "source": [
    "Exercici 4 \n",
    "Crea un diccionari de la següent forma i respon a les preguntes:\n",
    "compra = { \"Pomes\" : {\"Qty\": 5, \"€\": 0.42}, \"Peres\" : {\"Qty\": 3, \"€\": 0.66} }\n",
    "\n",
    "    a)Afegeix alguna fruita més\n",
    "    b)Quant han costat les peres en total?\n",
    "    c)Quantes fruites hem comprat en total?\n",
    "    d)Quina és la fruita més cara?\n"
   ]
  },
  {
   "cell_type": "code",
   "execution_count": 50,
   "id": "e6768311",
   "metadata": {},
   "outputs": [
    {
     "name": "stdout",
     "output_type": "stream",
     "text": [
      "{'Pomes': {'Qty': 5, '€': 0.42}, 'Peres': {'Qty': 3, '€': 0.66}}\n"
     ]
    }
   ],
   "source": [
    "\n",
    "compra = {\n",
    "    \"Pomes\": {\"Qty\": 5, \"€\": 0.42},\n",
    "    \"Peres\": {\"Qty\": 3, \"€\": 0.66}\n",
    "}\n",
    "\n",
    "print(compra)"
   ]
  },
  {
   "cell_type": "code",
   "execution_count": 51,
   "id": "0e16bc24",
   "metadata": {},
   "outputs": [],
   "source": [
    "##a)\n",
    "\n",
    "compra[\"Prunes\"] = {\"Qty\": 6, \"€\": 0.85}"
   ]
  },
  {
   "cell_type": "code",
   "execution_count": 53,
   "id": "ca619f93",
   "metadata": {},
   "outputs": [
    {
     "name": "stdout",
     "output_type": "stream",
     "text": [
      "{'Pomes': {'Qty': 5, '€': 0.42}, 'Peres': {'Qty': 3, '€': 0.66}, 'Prunes': {'Qty': 6, '€': 0.85}}\n"
     ]
    }
   ],
   "source": [
    "compra = { \n",
    "    \"Pomes\": {\"Qty\": 5, \"€\": 0.42},\n",
    "    \"Peres\": {\"Qty\": 3, \"€\": 0.66},\n",
    "    \"Prunes\" :{\"Qty\": 6, \"€\": 0.85}\n",
    "}\n",
    "print(compra)"
   ]
  },
  {
   "cell_type": "code",
   "execution_count": 56,
   "id": "1e9f9967",
   "metadata": {},
   "outputs": [
    {
     "name": "stdout",
     "output_type": "stream",
     "text": [
      "Les peres han costat  1.98 €\n"
     ]
    }
   ],
   "source": [
    "#b)\n",
    "\n",
    "# Calculem el preu total de les peres\n",
    "preu_peres = compra[\"Peres\"][\"Qty\"] * compra[\"Peres\"][\"€\"]\n",
    "print(\"Les peres han costat \", preu_peres, \"€\")\n",
    "\n"
   ]
  },
  {
   "cell_type": "code",
   "execution_count": 57,
   "id": "fbc411a5",
   "metadata": {},
   "outputs": [
    {
     "name": "stdout",
     "output_type": "stream",
     "text": [
      "Les  14  han estat el total de fruites comprades \n"
     ]
    }
   ],
   "source": [
    "#c)\n",
    "\n",
    "fruites_comprades_en_total = sum([compra[f][\"Qty\"] for f in compra])\n",
    "print(\"Les \" , fruites_comprades_en_total , \" han estat el total de fruites comprades \")\n",
    "\n"
   ]
  },
  {
   "cell_type": "code",
   "execution_count": 60,
   "id": "0f086d58",
   "metadata": {},
   "outputs": [
    {
     "name": "stdout",
     "output_type": "stream",
     "text": [
      "La fruita més cara son les  Prunes\n"
     ]
    }
   ],
   "source": [
    "#d)\n",
    "\n",
    "fruita_mes_cara = max(compra, key=lambda x: compra[x][\"€\"])\n",
    "print(\"La fruita més cara son les \", fruita_mes_cara)\n"
   ]
  },
  {
   "cell_type": "code",
   "execution_count": null,
   "id": "f63e0dea",
   "metadata": {},
   "outputs": [],
   "source": []
  }
 ],
 "metadata": {
  "kernelspec": {
   "display_name": "Python 3 (ipykernel)",
   "language": "python",
   "name": "python3"
  },
  "language_info": {
   "codemirror_mode": {
    "name": "ipython",
    "version": 3
   },
   "file_extension": ".py",
   "mimetype": "text/x-python",
   "name": "python",
   "nbconvert_exporter": "python",
   "pygments_lexer": "ipython3",
   "version": "3.9.13"
  }
 },
 "nbformat": 4,
 "nbformat_minor": 5
}
