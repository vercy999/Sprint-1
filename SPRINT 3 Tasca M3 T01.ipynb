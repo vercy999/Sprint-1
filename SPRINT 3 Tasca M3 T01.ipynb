{
 "cells": [
  {
   "cell_type": "markdown",
   "id": "864c3d04",
   "metadata": {},
   "source": [
    "- Exercici 1\n",
    "\n",
    "Crea una funció que donat un Array d’una dimensió, et faci un resum estadístic bàsic de les dades. Si detecta que l’array té més d’una dimensió, ha de mostrar un missatge d’error.\n",
    "\n",
    "\n",
    "\n",
    "\n",
    "\n",
    "\n",
    "\n",
    "Crea una funció que donada una taula de dues dimensions (NxM), et calculi els totals per fila i els totals per columna.\n",
    "\n",
    "\n"
   ]
  },
  {
   "cell_type": "code",
   "execution_count": 8,
   "id": "53480be0",
   "metadata": {},
   "outputs": [
    {
     "name": "stdout",
     "output_type": "stream",
     "text": [
      "[1 2 3 4 5]\n"
     ]
    }
   ],
   "source": [
    "import numpy as np\n",
    "\n",
    "arr = np.array([1, 2, 3, 4, 5])\n",
    "\n",
    "print(arr)\n"
   ]
  },
  {
   "cell_type": "code",
   "execution_count": 23,
   "id": "e1d0c93c",
   "metadata": {},
   "outputs": [],
   "source": [
    "import numpy as np\n",
    "arr = np.array([1, 2, 3, 4, 5])\n",
    "resumen_estadistico(arr)\n",
    "\n",
    "def resumen_estadistico(arr):\n",
    "    if arr.ndim != 1:\n",
    "        print(\"Error: L'array ha de tenir una dimensión\")\n",
    "        return"
   ]
  },
  {
   "cell_type": "code",
   "execution_count": 24,
   "id": "0914caf0",
   "metadata": {},
   "outputs": [
    {
     "name": "stdout",
     "output_type": "stream",
     "text": [
      "Resum estadistic del array:\n",
      "Media: 3.0\n",
      "Mediana: 3.0\n",
      "Desviació estandard: 1.4142135623730951\n",
      "Minim: 1\n",
      "Maxim: 5\n"
     ]
    }
   ],
   "source": [
    "print(\"Resum estadistic del array:\")\n",
    "print(\"Media:\", np.mean(arr))\n",
    "print(\"Mediana:\", np.median(arr))\n",
    "print(\"Desviació estandard:\", np.std(arr))\n",
    "print(\"Minim:\", np.min(arr))\n",
    "print(\"Maxim:\", np.max(arr))"
   ]
  },
  {
   "cell_type": "code",
   "execution_count": 25,
   "id": "c2bea4f4",
   "metadata": {},
   "outputs": [
    {
     "name": "stdout",
     "output_type": "stream",
     "text": [
      "Error: L'array ha de tenir una dimensión\n"
     ]
    }
   ],
   "source": [
    "arr = np.array([[1, 2], [3, 4]])\n",
    "resumen_estadistico(arr)"
   ]
  },
  {
   "cell_type": "markdown",
   "id": "72daf038",
   "metadata": {},
   "source": [
    "- Exercici 2\n",
    "\n",
    "Crea una funció que et generi un quadrat NxN de nombres aleatoris entre el 0 i el 100."
   ]
  },
  {
   "cell_type": "code",
   "execution_count": 27,
   "id": "d7de5840",
   "metadata": {},
   "outputs": [],
   "source": [
    "import numpy as np\n",
    "\n",
    "def generate_random_square_matrix(N):\n",
    "    return np.random.randint(0, 101, size=(N, N))"
   ]
  },
  {
   "cell_type": "code",
   "execution_count": 28,
   "id": "f7495d86",
   "metadata": {},
   "outputs": [
    {
     "data": {
      "text/plain": [
       "array([[41, 12, 30, 51, 45],\n",
       "       [ 3, 98, 98, 67, 85],\n",
       "       [46, 17, 25, 39, 90],\n",
       "       [66, 40, 61, 99, 50],\n",
       "       [80, 46, 93, 88, 98]])"
      ]
     },
     "execution_count": 28,
     "metadata": {},
     "output_type": "execute_result"
    }
   ],
   "source": [
    "generate_random_square_matrix(5)"
   ]
  },
  {
   "cell_type": "markdown",
   "id": "92b6166b",
   "metadata": {},
   "source": [
    "- Exercici 3\n",
    "Crea una funció que donada una taula de dues dimensions (NxM), et calculi els totals per fila i els totals per columna."
   ]
  },
  {
   "cell_type": "code",
   "execution_count": 29,
   "id": "9647cc57",
   "metadata": {},
   "outputs": [],
   "source": [
    "import numpy as np\n",
    "\n",
    "def calcula_totals(matriu):\n",
    "    \"\"\"\n",
    "    Calcula els totals per fila i per columna d'una matriu.\n",
    "    \n",
    "    :param matriu: una taula de dues dimensions (NxM)\n",
    "    :return: una tupla amb dos arrays de NumPy amb els totals per fila i per columna\n",
    "    \"\"\"\n",
    "    totals_fila = np.sum(matriu, axis=1)\n",
    "    totals_columna = np.sum(matriu, axis=0)\n",
    "    return (totals_fila, totals_columna)"
   ]
  },
  {
   "cell_type": "code",
   "execution_count": 30,
   "id": "3b7ab5b4",
   "metadata": {},
   "outputs": [],
   "source": [
    "matriu = np.array([[8, 9, 7],\n",
    "                   [6, 5, 6],\n",
    "                   [3, 7, 1]])"
   ]
  },
  {
   "cell_type": "code",
   "execution_count": 31,
   "id": "51a3e03b",
   "metadata": {},
   "outputs": [
    {
     "name": "stdout",
     "output_type": "stream",
     "text": [
      "Totals per fila: [24 17 11]\n",
      "Totals per columna: [17 21 14]\n"
     ]
    }
   ],
   "source": [
    "totals_fila, totals_columna = calcula_totals(matriu)\n",
    "\n",
    "print(\"Totals per fila:\", totals_fila)\n",
    "print(\"Totals per columna:\", totals_columna)"
   ]
  },
  {
   "cell_type": "markdown",
   "id": "1f95002a",
   "metadata": {},
   "source": [
    "- Exercici 4\n",
    "\n",
    "Implementa manualment una funció que calculi el coeficient de correlació. Informa-te'n sobre els seus usos i interpretació."
   ]
  },
  {
   "cell_type": "code",
   "execution_count": 32,
   "id": "128a188e",
   "metadata": {},
   "outputs": [],
   "source": [
    "import numpy as np\n",
    "\n",
    "def coeficient_correlacio(x, y):\n",
    "    \"\"\"\n",
    "    Calcula el coeficient de correlació entre dues variables x i y.\n",
    "    \n",
    "    :param x: un array NumPy amb les dades de la variable x\n",
    "    :param y: un array NumPy amb les dades de la variable y\n",
    "    :return: el coeficient de correlació entre x i y\n",
    "    \"\"\"\n",
    "    mitjana_x = np.mean(x)\n",
    "    mitjana_y = np.mean(y)\n",
    "    desv_est_x = np.std(x)\n",
    "    desv_est_y = np.std(y)\n",
    "    cov = np.sum((x - mitjana_x) * (y - mitjana_y))\n",
    "    return cov / (len(x) * desv_est_x * desv_est_y)"
   ]
  },
  {
   "cell_type": "code",
   "execution_count": 33,
   "id": "8acb4d93",
   "metadata": {},
   "outputs": [],
   "source": [
    "x = np.array([5,4,3,2,1,6])\n",
    "y = np.array([3,2,3,2,3,2,])"
   ]
  },
  {
   "cell_type": "code",
   "execution_count": 34,
   "id": "a437e078",
   "metadata": {},
   "outputs": [
    {
     "name": "stdout",
     "output_type": "stream",
     "text": [
      "Coeficient de correlació: -0.29277002188455997\n"
     ]
    }
   ],
   "source": [
    "coef = coeficient_correlacio(x, y)\n",
    "\n",
    "print(\"Coeficient de correlació:\", coef)"
   ]
  },
  {
   "cell_type": "markdown",
   "id": "3719357b",
   "metadata": {},
   "source": [
    "NO HI HA RELACIÖ ENTRE ELLES PERQUÈ  EL VALOR ES -0.29277002188455997"
   ]
  },
  {
   "cell_type": "code",
   "execution_count": null,
   "id": "cb430d06",
   "metadata": {},
   "outputs": [],
   "source": []
  }
 ],
 "metadata": {
  "kernelspec": {
   "display_name": "Python 3 (ipykernel)",
   "language": "python",
   "name": "python3"
  },
  "language_info": {
   "codemirror_mode": {
    "name": "ipython",
    "version": 3
   },
   "file_extension": ".py",
   "mimetype": "text/x-python",
   "name": "python",
   "nbconvert_exporter": "python",
   "pygments_lexer": "ipython3",
   "version": "3.9.13"
  }
 },
 "nbformat": 4,
 "nbformat_minor": 5
}
