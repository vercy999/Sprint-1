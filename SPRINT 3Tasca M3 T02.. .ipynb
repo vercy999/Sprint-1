{
 "cells": [
  {
   "cell_type": "markdown",
   "id": "bc4e43d8",
   "metadata": {},
   "source": [
    "- Exercici 1\n",
    "\n",
    "Descarrega el data set Airlines Delay: Airline on-time statistics and delay causes i carrega’l a un Pandas Dataframe. Explora les dades que conté, explica breument quines variables hi ha i queda’t únicament amb les columnes que consideris rellevants. Justifica la teva elecció."
   ]
  },
  {
   "cell_type": "code",
   "execution_count": 3,
   "id": "69273af6",
   "metadata": {},
   "outputs": [
    {
     "name": "stdout",
     "output_type": "stream",
     "text": [
      "Requirement already satisfied: pandas in c:\\users\\luril\\anaconda3\\lib\\site-packages (1.4.4)\n",
      "Requirement already satisfied: python-dateutil>=2.8.1 in c:\\users\\luril\\anaconda3\\lib\\site-packages (from pandas) (2.8.2)\n",
      "Requirement already satisfied: numpy>=1.18.5 in c:\\users\\luril\\anaconda3\\lib\\site-packages (from pandas) (1.21.5)\n",
      "Requirement already satisfied: pytz>=2020.1 in c:\\users\\luril\\anaconda3\\lib\\site-packages (from pandas) (2022.1)\n",
      "Requirement already satisfied: six>=1.5 in c:\\users\\luril\\anaconda3\\lib\\site-packages (from python-dateutil>=2.8.1->pandas) (1.16.0)\n",
      "Note: you may need to restart the kernel to use updated packages.\n"
     ]
    }
   ],
   "source": [
    "pip install pandas"
   ]
  },
  {
   "cell_type": "code",
   "execution_count": 4,
   "id": "0da09de9",
   "metadata": {},
   "outputs": [],
   "source": [
    "import pandas as pd"
   ]
  },
  {
   "cell_type": "markdown",
   "id": "3d426ebf",
   "metadata": {},
   "source": [
    " Important\n",
    "\n",
    "Redueix la dimensió del dataset de manera aleatòria per tal d'obtenir un dataset de només 200.000 registres.\n",
    "Tots els exercicis s'han de fer amb aquest dataset reduït.\n",
    "\n",
    "\n",
    "\n",
    "\n"
   ]
  },
  {
   "cell_type": "code",
   "execution_count": 54,
   "id": "b090816d",
   "metadata": {},
   "outputs": [
    {
     "name": "stdout",
     "output_type": "stream",
     "text": [
      "         Unnamed: 0  Year  Month  DayofMonth  DayOfWeek  DepTime  CRSDepTime  \\\n",
      "0                 0  2008      1           3          4   2003.0        1955   \n",
      "1                 1  2008      1           3          4    754.0         735   \n",
      "2                 2  2008      1           3          4    628.0         620   \n",
      "3                 4  2008      1           3          4   1829.0        1755   \n",
      "4                 5  2008      1           3          4   1940.0        1915   \n",
      "...             ...   ...    ...         ...        ...      ...         ...   \n",
      "1048570     3505042  2008      6          19          4   1551.0        1535   \n",
      "1048571     3505043  2008      6          20          5   1555.0        1535   \n",
      "1048572     3505044  2008      6          21          6   1555.0        1535   \n",
      "1048573     3505045  2008      6          22          7   1607.0        1535   \n",
      "1048574     3505046  2008      6          23          1   1608.0        1535   \n",
      "\n",
      "         ArrTime  CRSArrTime UniqueCarrier  ...  TaxiIn TaxiOut  Cancelled  \\\n",
      "0         2211.0        2225            WN  ...     4.0     8.0          0   \n",
      "1         1002.0        1000            WN  ...     5.0    10.0          0   \n",
      "2          804.0         750            WN  ...     3.0    17.0          0   \n",
      "3         1959.0        1925            WN  ...     3.0    10.0          0   \n",
      "4         2121.0        2110            WN  ...     4.0    10.0          0   \n",
      "...          ...         ...           ...  ...     ...     ...        ...   \n",
      "1048570   1923.0        1915            AA  ...     5.0    20.0          0   \n",
      "1048571   1927.0        1915            AA  ...     6.0    14.0          0   \n",
      "1048572   1917.0        1915            AA  ...     5.0    13.0          0   \n",
      "1048573   1941.0        1915            AA  ...     5.0    12.0          0   \n",
      "1048574   1933.0        1915            AA  ...     6.0    10.0          0   \n",
      "\n",
      "         CancellationCode  Diverted  CarrierDelay  WeatherDelay NASDelay  \\\n",
      "0                       N         0           NaN           NaN      NaN   \n",
      "1                       N         0           NaN           NaN      NaN   \n",
      "2                       N         0           NaN           NaN      NaN   \n",
      "3                       N         0           2.0           0.0      0.0   \n",
      "4                       N         0           NaN           NaN      NaN   \n",
      "...                   ...       ...           ...           ...      ...   \n",
      "1048570                 N         0           NaN           NaN      NaN   \n",
      "1048571                 N         0           NaN           NaN      NaN   \n",
      "1048572                 N         0           NaN           NaN      NaN   \n",
      "1048573                 N         0           1.0           0.0      0.0   \n",
      "1048574                 N         0          18.0           0.0      0.0   \n",
      "\n",
      "        SecurityDelay  LateAircraftDelay  \n",
      "0                 NaN                NaN  \n",
      "1                 NaN                NaN  \n",
      "2                 NaN                NaN  \n",
      "3                 0.0               32.0  \n",
      "4                 NaN                NaN  \n",
      "...               ...                ...  \n",
      "1048570           NaN                NaN  \n",
      "1048571           NaN                NaN  \n",
      "1048572           NaN                NaN  \n",
      "1048573           0.0               25.0  \n",
      "1048574           0.0                0.0  \n",
      "\n",
      "[1048575 rows x 30 columns]\n",
      "<bound method NDFrame.to_csv of         Unnamed: 0  Year  Month  DayofMonth  DayOfWeek  DepTime  CRSDepTime  \\\n",
      "781974     2585025  2008      5          19          1    737.0         730   \n",
      "937737     3147035  2008      6          30          1   2050.0        1930   \n",
      "907828     3058964  2008      6          21          6   1746.0        1735   \n",
      "784628     2597331  2008      5          27          2   1255.0        1245   \n",
      "662460     2139616  2008      4           4          5   2317.0        2130   \n",
      "...            ...   ...    ...         ...        ...      ...         ...   \n",
      "731287     2398697  2008      5           6          2   1703.0        1650   \n",
      "840153     2837679  2008      5           6          2   1224.0         900   \n",
      "966306     3237755  2008      6           4          3   1237.0        1223   \n",
      "642141     2051667  2008      4           7          1   1530.0        1350   \n",
      "319196     1008185  2008      2          13          3   1250.0        1235   \n",
      "\n",
      "        ArrTime  CRSArrTime UniqueCarrier  ...  TaxiIn TaxiOut  Cancelled  \\\n",
      "781974   1021.0        1030            OO  ...     0.0     8.0          0   \n",
      "937737   2135.0        2010            YV  ...     6.0    11.0          0   \n",
      "907828   1904.0        1900            WN  ...     5.0     7.0          0   \n",
      "784628   1257.0        1245            OO  ...     3.0    16.0          0   \n",
      "662460     48.0        2308            FL  ...     6.0    20.0          0   \n",
      "...         ...         ...           ...  ...     ...     ...        ...   \n",
      "731287   1938.0        1940            WN  ...     5.0    11.0          0   \n",
      "840153   1554.0        1238            NW  ...     6.0    15.0          0   \n",
      "966306   1754.0        1746            UA  ...     9.0    15.0          0   \n",
      "642141   1823.0        1659            US  ...     7.0    13.0          0   \n",
      "319196   2028.0        1959            NW  ...    16.0    27.0          0   \n",
      "\n",
      "        CancellationCode  Diverted  CarrierDelay  WeatherDelay NASDelay  \\\n",
      "781974                 N         0           NaN           NaN      NaN   \n",
      "937737                 N         0          85.0           0.0      0.0   \n",
      "907828                 N         0           NaN           NaN      NaN   \n",
      "784628                 N         0           NaN           NaN      NaN   \n",
      "662460                 N         0           0.0           0.0      0.0   \n",
      "...                  ...       ...           ...           ...      ...   \n",
      "731287                 N         0           NaN           NaN      NaN   \n",
      "840153                 N         0         196.0           0.0      0.0   \n",
      "966306                 N         0           NaN           NaN      NaN   \n",
      "642141                 N         0           7.0           0.0      0.0   \n",
      "319196                 N         0           4.0           0.0     14.0   \n",
      "\n",
      "       SecurityDelay  LateAircraftDelay  \n",
      "781974           NaN                NaN  \n",
      "937737           0.0                0.0  \n",
      "907828           NaN                NaN  \n",
      "784628           NaN                NaN  \n",
      "662460           0.0              100.0  \n",
      "...              ...                ...  \n",
      "731287           NaN                NaN  \n",
      "840153           0.0                0.0  \n",
      "966306           NaN                NaN  \n",
      "642141           0.0               77.0  \n",
      "319196           0.0               11.0  \n",
      "\n",
      "[200000 rows x 30 columns]>\n"
     ]
    }
   ],
   "source": [
    "dataframe = pd.read_csv('DelayedFlights.csv')\n",
    "print(dataframe)\n",
    "\n",
    "import pandas as pd\n",
    "\n",
    "df= pd.read_csv('DelayedFlights.csv')\n",
    "\n",
    "df_reduit = df.sample(n=200000, random_state=42)\n",
    "\n",
    "df_reduit.to_csv('nom_del_dataset_reduit.csv', index=False)\n",
    "\n",
    "print(df_reduit.to_csv)"
   ]
  },
  {
   "cell_type": "markdown",
   "id": "ecfbc31b",
   "metadata": {},
   "source": [
    "\n",
    "Exercici 2\n",
    "\n",
    "Fes un informe complet del dataset:\n",
    "\n",
    "    Resumeix estadísticament el dataset i les columnes d’interès. \n",
    "    Fes una anàlisi estadístic del que consideris rellevant.\n",
    "    Troba quantes dades faltants hi ha per columna.\n",
    "    Crea columnes noves (velocitat mitjana del vol, si ha arribat tard o no...).\n",
    "    Fes una taula de les aerolínies amb més endarreriments acumulats.\n",
    "    Quins són els vols més llargs? I els més endarrerits? Busca les rutes més llargues i les que acumulen més retards.\n",
    "    Aporta allò que consideris rellevant.\n",
    "\n",
    "\n"
   ]
  },
  {
   "cell_type": "markdown",
   "id": "2eaea512",
   "metadata": {},
   "source": [
    "a)Resum estadístic del dataset i les columnes d’interès"
   ]
  },
  {
   "cell_type": "code",
   "execution_count": 27,
   "id": "8009b803",
   "metadata": {},
   "outputs": [
    {
     "name": "stdout",
     "output_type": "stream",
     "text": [
      "count    1.044679e+06\n",
      "mean     4.218257e+01\n",
      "std      5.577485e+01\n",
      "min     -6.900000e+01\n",
      "25%      9.000000e+00\n",
      "50%      2.500000e+01\n",
      "75%      5.600000e+01\n",
      "max      2.461000e+03\n",
      "Name: ArrDelay, dtype: float64\n"
     ]
    }
   ],
   "source": [
    "print(df['ArrDelay'].describe())"
   ]
  },
  {
   "cell_type": "code",
   "execution_count": 28,
   "id": "70ab83fa",
   "metadata": {},
   "outputs": [
    {
     "name": "stdout",
     "output_type": "stream",
     "text": [
      "count    685734.000000\n",
      "mean          3.568032\n",
      "std          20.724642\n",
      "min           0.000000\n",
      "25%           0.000000\n",
      "50%           0.000000\n",
      "75%           0.000000\n",
      "max        1148.000000\n",
      "Name: WeatherDelay, dtype: float64\n"
     ]
    }
   ],
   "source": [
    "print(df['WeatherDelay'].describe())"
   ]
  },
  {
   "cell_type": "code",
   "execution_count": 44,
   "id": "235e19d3",
   "metadata": {},
   "outputs": [
    {
     "name": "stdout",
     "output_type": "stream",
     "text": [
      "['Unnamed: 0', 'Year', 'Month', 'DayofMonth', 'DayOfWeek', 'DepTime', 'CRSDepTime', 'ArrTime', 'CRSArrTime', 'UniqueCarrier', 'FlightNum', 'TailNum', 'ActualElapsedTime', 'CRSElapsedTime', 'AirTime', 'ArrDelay', 'DepDelay', 'Origin', 'Dest', 'Distance', 'TaxiIn', 'TaxiOut', 'Cancelled', 'CancellationCode', 'Diverted', 'CarrierDelay', 'WeatherDelay', 'NASDelay', 'SecurityDelay', 'LateAircraftDelay']\n"
     ]
    }
   ],
   "source": [
    "column_names = list(df.columns)\n",
    "print(column_names)"
   ]
  },
  {
   "cell_type": "code",
   "execution_count": 57,
   "id": "af6906e2",
   "metadata": {},
   "outputs": [
    {
     "ename": "FileNotFoundError",
     "evalue": "[Errno 2] No such file or directory: 'df_reduit.csv'",
     "output_type": "error",
     "traceback": [
      "\u001b[1;31m---------------------------------------------------------------------------\u001b[0m",
      "\u001b[1;31mFileNotFoundError\u001b[0m                         Traceback (most recent call last)",
      "\u001b[1;32m~\\AppData\\Local\\Temp\\ipykernel_39668\\1922022874.py\u001b[0m in \u001b[0;36m<module>\u001b[1;34m\u001b[0m\n\u001b[0;32m      1\u001b[0m \u001b[1;32mimport\u001b[0m \u001b[0mpandas\u001b[0m \u001b[1;32mas\u001b[0m \u001b[0mpd\u001b[0m\u001b[1;33m\u001b[0m\u001b[1;33m\u001b[0m\u001b[0m\n\u001b[0;32m      2\u001b[0m \u001b[1;33m\u001b[0m\u001b[0m\n\u001b[1;32m----> 3\u001b[1;33m \u001b[0mdf\u001b[0m \u001b[1;33m=\u001b[0m \u001b[0mpd\u001b[0m\u001b[1;33m.\u001b[0m\u001b[0mread_csv\u001b[0m\u001b[1;33m(\u001b[0m\u001b[1;34m'df_reduit.csv'\u001b[0m\u001b[1;33m)\u001b[0m\u001b[1;33m\u001b[0m\u001b[1;33m\u001b[0m\u001b[0m\n\u001b[0m\u001b[0;32m      4\u001b[0m \u001b[1;33m\u001b[0m\u001b[0m\n\u001b[0;32m      5\u001b[0m \u001b[0mnull_data\u001b[0m \u001b[1;33m=\u001b[0m \u001b[0mdf\u001b[0m\u001b[1;33m[\u001b[0m\u001b[0mdf\u001b[0m\u001b[1;33m.\u001b[0m\u001b[0misnull\u001b[0m\u001b[1;33m(\u001b[0m\u001b[1;33m)\u001b[0m\u001b[1;33m.\u001b[0m\u001b[0many\u001b[0m\u001b[1;33m(\u001b[0m\u001b[0maxis\u001b[0m\u001b[1;33m=\u001b[0m\u001b[1;36m1\u001b[0m\u001b[1;33m)\u001b[0m\u001b[1;33m]\u001b[0m\u001b[1;33m\u001b[0m\u001b[1;33m\u001b[0m\u001b[0m\n",
      "\u001b[1;32m~\\anaconda3\\lib\\site-packages\\pandas\\util\\_decorators.py\u001b[0m in \u001b[0;36mwrapper\u001b[1;34m(*args, **kwargs)\u001b[0m\n\u001b[0;32m    309\u001b[0m                     \u001b[0mstacklevel\u001b[0m\u001b[1;33m=\u001b[0m\u001b[0mstacklevel\u001b[0m\u001b[1;33m,\u001b[0m\u001b[1;33m\u001b[0m\u001b[1;33m\u001b[0m\u001b[0m\n\u001b[0;32m    310\u001b[0m                 )\n\u001b[1;32m--> 311\u001b[1;33m             \u001b[1;32mreturn\u001b[0m \u001b[0mfunc\u001b[0m\u001b[1;33m(\u001b[0m\u001b[1;33m*\u001b[0m\u001b[0margs\u001b[0m\u001b[1;33m,\u001b[0m \u001b[1;33m**\u001b[0m\u001b[0mkwargs\u001b[0m\u001b[1;33m)\u001b[0m\u001b[1;33m\u001b[0m\u001b[1;33m\u001b[0m\u001b[0m\n\u001b[0m\u001b[0;32m    312\u001b[0m \u001b[1;33m\u001b[0m\u001b[0m\n\u001b[0;32m    313\u001b[0m         \u001b[1;32mreturn\u001b[0m \u001b[0mwrapper\u001b[0m\u001b[1;33m\u001b[0m\u001b[1;33m\u001b[0m\u001b[0m\n",
      "\u001b[1;32m~\\anaconda3\\lib\\site-packages\\pandas\\io\\parsers\\readers.py\u001b[0m in \u001b[0;36mread_csv\u001b[1;34m(filepath_or_buffer, sep, delimiter, header, names, index_col, usecols, squeeze, prefix, mangle_dupe_cols, dtype, engine, converters, true_values, false_values, skipinitialspace, skiprows, skipfooter, nrows, na_values, keep_default_na, na_filter, verbose, skip_blank_lines, parse_dates, infer_datetime_format, keep_date_col, date_parser, dayfirst, cache_dates, iterator, chunksize, compression, thousands, decimal, lineterminator, quotechar, quoting, doublequote, escapechar, comment, encoding, encoding_errors, dialect, error_bad_lines, warn_bad_lines, on_bad_lines, delim_whitespace, low_memory, memory_map, float_precision, storage_options)\u001b[0m\n\u001b[0;32m    676\u001b[0m     \u001b[0mkwds\u001b[0m\u001b[1;33m.\u001b[0m\u001b[0mupdate\u001b[0m\u001b[1;33m(\u001b[0m\u001b[0mkwds_defaults\u001b[0m\u001b[1;33m)\u001b[0m\u001b[1;33m\u001b[0m\u001b[1;33m\u001b[0m\u001b[0m\n\u001b[0;32m    677\u001b[0m \u001b[1;33m\u001b[0m\u001b[0m\n\u001b[1;32m--> 678\u001b[1;33m     \u001b[1;32mreturn\u001b[0m \u001b[0m_read\u001b[0m\u001b[1;33m(\u001b[0m\u001b[0mfilepath_or_buffer\u001b[0m\u001b[1;33m,\u001b[0m \u001b[0mkwds\u001b[0m\u001b[1;33m)\u001b[0m\u001b[1;33m\u001b[0m\u001b[1;33m\u001b[0m\u001b[0m\n\u001b[0m\u001b[0;32m    679\u001b[0m \u001b[1;33m\u001b[0m\u001b[0m\n\u001b[0;32m    680\u001b[0m \u001b[1;33m\u001b[0m\u001b[0m\n",
      "\u001b[1;32m~\\anaconda3\\lib\\site-packages\\pandas\\io\\parsers\\readers.py\u001b[0m in \u001b[0;36m_read\u001b[1;34m(filepath_or_buffer, kwds)\u001b[0m\n\u001b[0;32m    573\u001b[0m \u001b[1;33m\u001b[0m\u001b[0m\n\u001b[0;32m    574\u001b[0m     \u001b[1;31m# Create the parser.\u001b[0m\u001b[1;33m\u001b[0m\u001b[1;33m\u001b[0m\u001b[0m\n\u001b[1;32m--> 575\u001b[1;33m     \u001b[0mparser\u001b[0m \u001b[1;33m=\u001b[0m \u001b[0mTextFileReader\u001b[0m\u001b[1;33m(\u001b[0m\u001b[0mfilepath_or_buffer\u001b[0m\u001b[1;33m,\u001b[0m \u001b[1;33m**\u001b[0m\u001b[0mkwds\u001b[0m\u001b[1;33m)\u001b[0m\u001b[1;33m\u001b[0m\u001b[1;33m\u001b[0m\u001b[0m\n\u001b[0m\u001b[0;32m    576\u001b[0m \u001b[1;33m\u001b[0m\u001b[0m\n\u001b[0;32m    577\u001b[0m     \u001b[1;32mif\u001b[0m \u001b[0mchunksize\u001b[0m \u001b[1;32mor\u001b[0m \u001b[0miterator\u001b[0m\u001b[1;33m:\u001b[0m\u001b[1;33m\u001b[0m\u001b[1;33m\u001b[0m\u001b[0m\n",
      "\u001b[1;32m~\\anaconda3\\lib\\site-packages\\pandas\\io\\parsers\\readers.py\u001b[0m in \u001b[0;36m__init__\u001b[1;34m(self, f, engine, **kwds)\u001b[0m\n\u001b[0;32m    930\u001b[0m \u001b[1;33m\u001b[0m\u001b[0m\n\u001b[0;32m    931\u001b[0m         \u001b[0mself\u001b[0m\u001b[1;33m.\u001b[0m\u001b[0mhandles\u001b[0m\u001b[1;33m:\u001b[0m \u001b[0mIOHandles\u001b[0m \u001b[1;33m|\u001b[0m \u001b[1;32mNone\u001b[0m \u001b[1;33m=\u001b[0m \u001b[1;32mNone\u001b[0m\u001b[1;33m\u001b[0m\u001b[1;33m\u001b[0m\u001b[0m\n\u001b[1;32m--> 932\u001b[1;33m         \u001b[0mself\u001b[0m\u001b[1;33m.\u001b[0m\u001b[0m_engine\u001b[0m \u001b[1;33m=\u001b[0m \u001b[0mself\u001b[0m\u001b[1;33m.\u001b[0m\u001b[0m_make_engine\u001b[0m\u001b[1;33m(\u001b[0m\u001b[0mf\u001b[0m\u001b[1;33m,\u001b[0m \u001b[0mself\u001b[0m\u001b[1;33m.\u001b[0m\u001b[0mengine\u001b[0m\u001b[1;33m)\u001b[0m\u001b[1;33m\u001b[0m\u001b[1;33m\u001b[0m\u001b[0m\n\u001b[0m\u001b[0;32m    933\u001b[0m \u001b[1;33m\u001b[0m\u001b[0m\n\u001b[0;32m    934\u001b[0m     \u001b[1;32mdef\u001b[0m \u001b[0mclose\u001b[0m\u001b[1;33m(\u001b[0m\u001b[0mself\u001b[0m\u001b[1;33m)\u001b[0m\u001b[1;33m:\u001b[0m\u001b[1;33m\u001b[0m\u001b[1;33m\u001b[0m\u001b[0m\n",
      "\u001b[1;32m~\\anaconda3\\lib\\site-packages\\pandas\\io\\parsers\\readers.py\u001b[0m in \u001b[0;36m_make_engine\u001b[1;34m(self, f, engine)\u001b[0m\n\u001b[0;32m   1214\u001b[0m             \u001b[1;31m# \"Union[str, PathLike[str], ReadCsvBuffer[bytes], ReadCsvBuffer[str]]\"\u001b[0m\u001b[1;33m\u001b[0m\u001b[1;33m\u001b[0m\u001b[0m\n\u001b[0;32m   1215\u001b[0m             \u001b[1;31m# , \"str\", \"bool\", \"Any\", \"Any\", \"Any\", \"Any\", \"Any\"\u001b[0m\u001b[1;33m\u001b[0m\u001b[1;33m\u001b[0m\u001b[0m\n\u001b[1;32m-> 1216\u001b[1;33m             self.handles = get_handle(  # type: ignore[call-overload]\n\u001b[0m\u001b[0;32m   1217\u001b[0m                 \u001b[0mf\u001b[0m\u001b[1;33m,\u001b[0m\u001b[1;33m\u001b[0m\u001b[1;33m\u001b[0m\u001b[0m\n\u001b[0;32m   1218\u001b[0m                 \u001b[0mmode\u001b[0m\u001b[1;33m,\u001b[0m\u001b[1;33m\u001b[0m\u001b[1;33m\u001b[0m\u001b[0m\n",
      "\u001b[1;32m~\\anaconda3\\lib\\site-packages\\pandas\\io\\common.py\u001b[0m in \u001b[0;36mget_handle\u001b[1;34m(path_or_buf, mode, encoding, compression, memory_map, is_text, errors, storage_options)\u001b[0m\n\u001b[0;32m    784\u001b[0m         \u001b[1;32mif\u001b[0m \u001b[0mioargs\u001b[0m\u001b[1;33m.\u001b[0m\u001b[0mencoding\u001b[0m \u001b[1;32mand\u001b[0m \u001b[1;34m\"b\"\u001b[0m \u001b[1;32mnot\u001b[0m \u001b[1;32min\u001b[0m \u001b[0mioargs\u001b[0m\u001b[1;33m.\u001b[0m\u001b[0mmode\u001b[0m\u001b[1;33m:\u001b[0m\u001b[1;33m\u001b[0m\u001b[1;33m\u001b[0m\u001b[0m\n\u001b[0;32m    785\u001b[0m             \u001b[1;31m# Encoding\u001b[0m\u001b[1;33m\u001b[0m\u001b[1;33m\u001b[0m\u001b[0m\n\u001b[1;32m--> 786\u001b[1;33m             handle = open(\n\u001b[0m\u001b[0;32m    787\u001b[0m                 \u001b[0mhandle\u001b[0m\u001b[1;33m,\u001b[0m\u001b[1;33m\u001b[0m\u001b[1;33m\u001b[0m\u001b[0m\n\u001b[0;32m    788\u001b[0m                 \u001b[0mioargs\u001b[0m\u001b[1;33m.\u001b[0m\u001b[0mmode\u001b[0m\u001b[1;33m,\u001b[0m\u001b[1;33m\u001b[0m\u001b[1;33m\u001b[0m\u001b[0m\n",
      "\u001b[1;31mFileNotFoundError\u001b[0m: [Errno 2] No such file or directory: 'df_reduit.csv'"
     ]
    }
   ],
   "source": [
    "import pandas as pd\n",
    "\n",
    "df = pd.read_csv('df_reduit.csv')\n",
    "\n",
    "null_data = df[df.isnull().any(axis=1)]\n",
    "\n",
    "\n",
    "print(null_data)\n",
    "\n"
   ]
  },
  {
   "cell_type": "code",
   "execution_count": null,
   "id": "5358119f",
   "metadata": {},
   "outputs": [],
   "source": []
  }
 ],
 "metadata": {
  "kernelspec": {
   "display_name": "Python 3 (ipykernel)",
   "language": "python",
   "name": "python3"
  },
  "language_info": {
   "codemirror_mode": {
    "name": "ipython",
    "version": 3
   },
   "file_extension": ".py",
   "mimetype": "text/x-python",
   "name": "python",
   "nbconvert_exporter": "python",
   "pygments_lexer": "ipython3",
   "version": "3.9.13"
  }
 },
 "nbformat": 4,
 "nbformat_minor": 5
}
